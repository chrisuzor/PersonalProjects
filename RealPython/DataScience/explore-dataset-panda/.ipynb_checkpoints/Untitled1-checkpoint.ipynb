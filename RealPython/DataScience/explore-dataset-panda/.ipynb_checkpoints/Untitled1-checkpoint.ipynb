{
 "cells": [
  {
   "cell_type": "code",
   "execution_count": 1,
   "id": "ccfc5819",
   "metadata": {},
   "outputs": [],
   "source": [
    "import pandas as pd"
   ]
  },
  {
   "cell_type": "code",
   "execution_count": 2,
   "id": "8ff11c16",
   "metadata": {},
   "outputs": [],
   "source": [
    "revenues = pd.Series([\n",
    "    555,700,100\n",
    "])"
   ]
  },
  {
   "cell_type": "code",
   "execution_count": 3,
   "id": "400136b3",
   "metadata": {},
   "outputs": [
    {
     "data": {
      "text/plain": [
       "0    555\n",
       "1    700\n",
       "2    100\n",
       "dtype: int64"
      ]
     },
     "execution_count": 3,
     "metadata": {},
     "output_type": "execute_result"
    }
   ],
   "source": [
    "revenues"
   ]
  },
  {
   "cell_type": "code",
   "execution_count": 4,
   "id": "1ef46f2a",
   "metadata": {},
   "outputs": [
    {
     "data": {
      "text/plain": [
       "array([555, 700, 100])"
      ]
     },
     "execution_count": 4,
     "metadata": {},
     "output_type": "execute_result"
    }
   ],
   "source": [
    "revenues.values"
   ]
  },
  {
   "cell_type": "code",
   "execution_count": 5,
   "id": "9b9c92be",
   "metadata": {},
   "outputs": [
    {
     "data": {
      "text/plain": [
       "RangeIndex(start=0, stop=3, step=1)"
      ]
     },
     "execution_count": 5,
     "metadata": {},
     "output_type": "execute_result"
    }
   ],
   "source": [
    "revenues.index"
   ]
  },
  {
   "cell_type": "code",
   "execution_count": 6,
   "id": "cef6d16e",
   "metadata": {},
   "outputs": [
    {
     "data": {
      "text/plain": [
       "Amsterdam    4200\n",
       "Toronto      8000\n",
       "Tokyo        6500\n",
       "dtype: int64"
      ]
     },
     "execution_count": 6,
     "metadata": {},
     "output_type": "execute_result"
    }
   ],
   "source": [
    "city_revenues = pd.Series(\n",
    "    [4200, 8000, 6500],\n",
    "    index = ['Amsterdam', 'Toronto', 'Tokyo']\n",
    ")\n",
    "city_revenues"
   ]
  },
  {
   "cell_type": "code",
   "execution_count": 8,
   "id": "f47ee095",
   "metadata": {},
   "outputs": [
    {
     "data": {
      "text/plain": [
       "8000"
      ]
     },
     "execution_count": 8,
     "metadata": {},
     "output_type": "execute_result"
    }
   ],
   "source": [
    "city_revenues['Toronto']"
   ]
  },
  {
   "cell_type": "code",
   "execution_count": 9,
   "id": "7517827d",
   "metadata": {},
   "outputs": [],
   "source": [
    "city_employee_count_data = {'Amsterdam': 5, 'Tokyo': 8}\n",
    "city_employee_count = pd.Series(city_employee_count_data)"
   ]
  },
  {
   "cell_type": "code",
   "execution_count": 10,
   "id": "ed928362",
   "metadata": {},
   "outputs": [
    {
     "data": {
      "text/plain": [
       "Amsterdam    5\n",
       "Tokyo        8\n",
       "dtype: int64"
      ]
     },
     "execution_count": 10,
     "metadata": {},
     "output_type": "execute_result"
    }
   ],
   "source": [
    "city_employee_count"
   ]
  },
  {
   "cell_type": "code",
   "execution_count": 11,
   "id": "9ecaa591",
   "metadata": {},
   "outputs": [
    {
     "data": {
      "text/plain": [
       "Index(['Amsterdam', 'Tokyo'], dtype='object')"
      ]
     },
     "execution_count": 11,
     "metadata": {},
     "output_type": "execute_result"
    }
   ],
   "source": [
    "city_employee_count.keys()"
   ]
  },
  {
   "cell_type": "code",
   "execution_count": 12,
   "id": "cae1d3fb",
   "metadata": {},
   "outputs": [
    {
     "data": {
      "text/html": [
       "<div>\n",
       "<style scoped>\n",
       "    .dataframe tbody tr th:only-of-type {\n",
       "        vertical-align: middle;\n",
       "    }\n",
       "\n",
       "    .dataframe tbody tr th {\n",
       "        vertical-align: top;\n",
       "    }\n",
       "\n",
       "    .dataframe thead th {\n",
       "        text-align: right;\n",
       "    }\n",
       "</style>\n",
       "<table border=\"1\" class=\"dataframe\">\n",
       "  <thead>\n",
       "    <tr style=\"text-align: right;\">\n",
       "      <th></th>\n",
       "      <th>revenue</th>\n",
       "      <th>employee_count</th>\n",
       "    </tr>\n",
       "  </thead>\n",
       "  <tbody>\n",
       "    <tr>\n",
       "      <th>Amsterdam</th>\n",
       "      <td>4200</td>\n",
       "      <td>5.0</td>\n",
       "    </tr>\n",
       "    <tr>\n",
       "      <th>Tokyo</th>\n",
       "      <td>6500</td>\n",
       "      <td>8.0</td>\n",
       "    </tr>\n",
       "    <tr>\n",
       "      <th>Toronto</th>\n",
       "      <td>8000</td>\n",
       "      <td>NaN</td>\n",
       "    </tr>\n",
       "  </tbody>\n",
       "</table>\n",
       "</div>"
      ],
      "text/plain": [
       "           revenue  employee_count\n",
       "Amsterdam     4200             5.0\n",
       "Tokyo         6500             8.0\n",
       "Toronto       8000             NaN"
      ]
     },
     "execution_count": 12,
     "metadata": {},
     "output_type": "execute_result"
    }
   ],
   "source": [
    "city_data = pd.DataFrame({\n",
    "    'revenue': city_revenues,\n",
    "    'employee_count': city_employee_count\n",
    "})\n",
    "city_data"
   ]
  },
  {
   "cell_type": "code",
   "execution_count": 13,
   "id": "7da306ef",
   "metadata": {},
   "outputs": [
    {
     "data": {
      "text/plain": [
       "[Index(['Amsterdam', 'Tokyo', 'Toronto'], dtype='object'),\n",
       " Index(['revenue', 'employee_count'], dtype='object')]"
      ]
     },
     "execution_count": 13,
     "metadata": {},
     "output_type": "execute_result"
    }
   ],
   "source": [
    "city_data.axes"
   ]
  },
  {
   "cell_type": "code",
   "execution_count": 15,
   "id": "cec4077b",
   "metadata": {},
   "outputs": [
    {
     "data": {
      "text/plain": [
       "Amsterdam    4200\n",
       "Tokyo        6500\n",
       "Toronto      8000\n",
       "Name: revenue, dtype: int64"
      ]
     },
     "execution_count": 15,
     "metadata": {},
     "output_type": "execute_result"
    }
   ],
   "source": [
    "city_data.revenue"
   ]
  },
  {
   "cell_type": "code",
   "execution_count": 16,
   "id": "fafa853d",
   "metadata": {},
   "outputs": [
    {
     "data": {
      "text/plain": [
       "revenue           4200.0\n",
       "employee_count       5.0\n",
       "Name: Amsterdam, dtype: float64"
      ]
     },
     "execution_count": 16,
     "metadata": {},
     "output_type": "execute_result"
    }
   ],
   "source": [
    "city_data.loc['Amsterdam']"
   ]
  },
  {
   "cell_type": "code",
   "execution_count": 17,
   "id": "729e1132",
   "metadata": {},
   "outputs": [
    {
     "data": {
      "text/plain": [
       "revenue           6500.0\n",
       "employee_count       8.0\n",
       "Name: Tokyo, dtype: float64"
      ]
     },
     "execution_count": 17,
     "metadata": {},
     "output_type": "execute_result"
    }
   ],
   "source": [
    "city_data.iloc[1]"
   ]
  },
  {
   "cell_type": "code",
   "execution_count": 18,
   "id": "1e567654",
   "metadata": {},
   "outputs": [
    {
     "data": {
      "text/html": [
       "<div>\n",
       "<style scoped>\n",
       "    .dataframe tbody tr th:only-of-type {\n",
       "        vertical-align: middle;\n",
       "    }\n",
       "\n",
       "    .dataframe tbody tr th {\n",
       "        vertical-align: top;\n",
       "    }\n",
       "\n",
       "    .dataframe thead th {\n",
       "        text-align: right;\n",
       "    }\n",
       "</style>\n",
       "<table border=\"1\" class=\"dataframe\">\n",
       "  <thead>\n",
       "    <tr style=\"text-align: right;\">\n",
       "      <th></th>\n",
       "      <th>revenue</th>\n",
       "      <th>employee_count</th>\n",
       "    </tr>\n",
       "  </thead>\n",
       "  <tbody>\n",
       "    <tr>\n",
       "      <th>Tokyo</th>\n",
       "      <td>6500</td>\n",
       "      <td>8.0</td>\n",
       "    </tr>\n",
       "    <tr>\n",
       "      <th>Toronto</th>\n",
       "      <td>8000</td>\n",
       "      <td>NaN</td>\n",
       "    </tr>\n",
       "  </tbody>\n",
       "</table>\n",
       "</div>"
      ],
      "text/plain": [
       "         revenue  employee_count\n",
       "Tokyo       6500             8.0\n",
       "Toronto     8000             NaN"
      ]
     },
     "execution_count": 18,
     "metadata": {},
     "output_type": "execute_result"
    }
   ],
   "source": [
    "city_data.loc['Tokyo':'Toronto']"
   ]
  },
  {
   "cell_type": "code",
   "execution_count": null,
   "id": "a4ea55b0",
   "metadata": {},
   "outputs": [],
   "source": []
  }
 ],
 "metadata": {
  "kernelspec": {
   "display_name": "Python 3.9.7 64-bit ('qadmin_pm_apps': conda)",
   "language": "python",
   "name": "python397jvsc74a57bd092603077a53deb65a4fd996b44a9fcb8bf9ea29aa4e4569aeb7aaf93582728e6"
  },
  "language_info": {
   "codemirror_mode": {
    "name": "ipython",
    "version": 3
   },
   "file_extension": ".py",
   "mimetype": "text/x-python",
   "name": "python",
   "nbconvert_exporter": "python",
   "pygments_lexer": "ipython3",
   "version": "3.9.7"
  }
 },
 "nbformat": 4,
 "nbformat_minor": 5
}
