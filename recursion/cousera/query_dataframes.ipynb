{
 "cells": [
  {
   "cell_type": "code",
   "execution_count": 1,
   "metadata": {},
   "outputs": [
    {
     "data": {
      "text/html": "<div>\n<style scoped>\n    .dataframe tbody tr th:only-of-type {\n        vertical-align: middle;\n    }\n\n    .dataframe tbody tr th {\n        vertical-align: top;\n    }\n\n    .dataframe thead th {\n        text-align: right;\n    }\n</style>\n<table border=\"1\" class=\"dataframe\">\n  <thead>\n    <tr style=\"text-align: right;\">\n      <th></th>\n      <th>name</th>\n      <th>client_project</th>\n      <th>date</th>\n      <th>allocation</th>\n      <th>hours</th>\n    </tr>\n  </thead>\n  <tbody>\n    <tr>\n      <th>0</th>\n      <td>30eff2</td>\n      <td>8dff45ta</td>\n      <td>2021-06-07 00:00:00+00:00</td>\n      <td>10.0</td>\n      <td>10.0</td>\n    </tr>\n    <tr>\n      <th>1</th>\n      <td>30eff2</td>\n      <td>8dff45ta</td>\n      <td>2021-06-14 00:00:00+00:00</td>\n      <td>8.0</td>\n      <td>4.0</td>\n    </tr>\n    <tr>\n      <th>2</th>\n      <td>30eff2</td>\n      <td>8dff45ta</td>\n      <td>2021-06-21 00:00:00+00:00</td>\n      <td>9.0</td>\n      <td>6.0</td>\n    </tr>\n  </tbody>\n</table>\n</div>",
      "text/plain": "     name client_project                              date  allocation  hours\n0  30eff2       8dff45ta         2021-06-07 00:00:00+00:00        10.0   10.0\n1  30eff2       8dff45ta         2021-06-14 00:00:00+00:00         8.0    4.0\n2  30eff2       8dff45ta         2021-06-21 00:00:00+00:00         9.0    6.0"
     },
     "execution_count": 1,
     "metadata": {},
     "output_type": "execute_result"
    }
   ],
   "source": [
    "import pandas as pd\n",
    "\n",
    "df = pd.read_csv('/Users/christopher/PycharmProjects/Udacity/recursion/cousera/another1.csv')\n",
    "\n",
    "df.columns = [x.lower().strip() for x in df.columns]\n",
    "\n",
    "df.head()"
   ]
  },
  {
   "cell_type": "code",
   "execution_count": 2,
   "metadata": {},
   "outputs": [
    {
     "data": {
      "text/plain": "0     True\n1    False\n2     True\nName: allocation, dtype: bool"
     },
     "execution_count": 2,
     "metadata": {},
     "output_type": "execute_result"
    }
   ],
   "source": [
    "admit_mask = df['allocation'] > 8\n",
    "admit_mask"
   ]
  },
  {
   "cell_type": "code",
   "execution_count": 3,
   "metadata": {},
   "outputs": [
    {
     "data": {
      "text/html": "<div>\n<style scoped>\n    .dataframe tbody tr th:only-of-type {\n        vertical-align: middle;\n    }\n\n    .dataframe tbody tr th {\n        vertical-align: top;\n    }\n\n    .dataframe thead th {\n        text-align: right;\n    }\n</style>\n<table border=\"1\" class=\"dataframe\">\n  <thead>\n    <tr style=\"text-align: right;\">\n      <th></th>\n      <th>name</th>\n      <th>client_project</th>\n      <th>date</th>\n      <th>allocation</th>\n      <th>hours</th>\n    </tr>\n  </thead>\n  <tbody>\n    <tr>\n      <th>0</th>\n      <td>30eff2</td>\n      <td>8dff45ta</td>\n      <td>2021-06-07 00:00:00+00:00</td>\n      <td>10.0</td>\n      <td>10.0</td>\n    </tr>\n    <tr>\n      <th>1</th>\n      <td>NaN</td>\n      <td>NaN</td>\n      <td>NaN</td>\n      <td>NaN</td>\n      <td>NaN</td>\n    </tr>\n    <tr>\n      <th>2</th>\n      <td>30eff2</td>\n      <td>8dff45ta</td>\n      <td>2021-06-21 00:00:00+00:00</td>\n      <td>9.0</td>\n      <td>6.0</td>\n    </tr>\n  </tbody>\n</table>\n</div>",
      "text/plain": "     name client_project                              date  allocation  hours\n0  30eff2       8dff45ta         2021-06-07 00:00:00+00:00        10.0   10.0\n1     NaN            NaN                               NaN         NaN    NaN\n2  30eff2       8dff45ta         2021-06-21 00:00:00+00:00         9.0    6.0"
     },
     "execution_count": 3,
     "metadata": {},
     "output_type": "execute_result"
    }
   ],
   "source": [
    "df.where(admit_mask).head()"
   ]
  },
  {
   "cell_type": "code",
   "execution_count": 4,
   "metadata": {},
   "outputs": [
    {
     "data": {
      "text/html": "<div>\n<style scoped>\n    .dataframe tbody tr th:only-of-type {\n        vertical-align: middle;\n    }\n\n    .dataframe tbody tr th {\n        vertical-align: top;\n    }\n\n    .dataframe thead th {\n        text-align: right;\n    }\n</style>\n<table border=\"1\" class=\"dataframe\">\n  <thead>\n    <tr style=\"text-align: right;\">\n      <th></th>\n      <th>name</th>\n      <th>client_project</th>\n      <th>date</th>\n      <th>allocation</th>\n      <th>hours</th>\n    </tr>\n  </thead>\n  <tbody>\n    <tr>\n      <th>0</th>\n      <td>30eff2</td>\n      <td>8dff45ta</td>\n      <td>2021-06-07 00:00:00+00:00</td>\n      <td>10.0</td>\n      <td>10.0</td>\n    </tr>\n    <tr>\n      <th>2</th>\n      <td>30eff2</td>\n      <td>8dff45ta</td>\n      <td>2021-06-21 00:00:00+00:00</td>\n      <td>9.0</td>\n      <td>6.0</td>\n    </tr>\n  </tbody>\n</table>\n</div>",
      "text/plain": "     name client_project                              date  allocation  hours\n0  30eff2       8dff45ta         2021-06-07 00:00:00+00:00        10.0   10.0\n2  30eff2       8dff45ta         2021-06-21 00:00:00+00:00         9.0    6.0"
     },
     "execution_count": 4,
     "metadata": {},
     "output_type": "execute_result"
    }
   ],
   "source": [
    "df.where(admit_mask).dropna().head()"
   ]
  },
  {
   "cell_type": "code",
   "execution_count": 5,
   "metadata": {},
   "outputs": [
    {
     "data": {
      "text/html": "<div>\n<style scoped>\n    .dataframe tbody tr th:only-of-type {\n        vertical-align: middle;\n    }\n\n    .dataframe tbody tr th {\n        vertical-align: top;\n    }\n\n    .dataframe thead th {\n        text-align: right;\n    }\n</style>\n<table border=\"1\" class=\"dataframe\">\n  <thead>\n    <tr style=\"text-align: right;\">\n      <th></th>\n      <th>name</th>\n      <th>client_project</th>\n      <th>date</th>\n      <th>allocation</th>\n      <th>hours</th>\n    </tr>\n  </thead>\n  <tbody>\n    <tr>\n      <th>0</th>\n      <td>30eff2</td>\n      <td>8dff45ta</td>\n      <td>2021-06-07 00:00:00+00:00</td>\n      <td>10.0</td>\n      <td>10.0</td>\n    </tr>\n    <tr>\n      <th>2</th>\n      <td>30eff2</td>\n      <td>8dff45ta</td>\n      <td>2021-06-21 00:00:00+00:00</td>\n      <td>9.0</td>\n      <td>6.0</td>\n    </tr>\n  </tbody>\n</table>\n</div>",
      "text/plain": "     name client_project                              date  allocation  hours\n0  30eff2       8dff45ta         2021-06-07 00:00:00+00:00        10.0   10.0\n2  30eff2       8dff45ta         2021-06-21 00:00:00+00:00         9.0    6.0"
     },
     "execution_count": 5,
     "metadata": {},
     "output_type": "execute_result"
    }
   ],
   "source": [
    "df[df['allocation'] > 8].head()"
   ]
  },
  {
   "cell_type": "code",
   "execution_count": 6,
   "metadata": {},
   "outputs": [
    {
     "data": {
      "text/html": "<div>\n<style scoped>\n    .dataframe tbody tr th:only-of-type {\n        vertical-align: middle;\n    }\n\n    .dataframe tbody tr th {\n        vertical-align: top;\n    }\n\n    .dataframe thead th {\n        text-align: right;\n    }\n</style>\n<table border=\"1\" class=\"dataframe\">\n  <thead>\n    <tr style=\"text-align: right;\">\n      <th></th>\n      <th>name</th>\n      <th>client_project</th>\n      <th>date</th>\n      <th>allocation</th>\n      <th>hours</th>\n    </tr>\n  </thead>\n  <tbody>\n    <tr>\n      <th>0</th>\n      <td>30eff2</td>\n      <td>8dff45ta</td>\n      <td>2021-06-07 00:00:00+00:00</td>\n      <td>10.0</td>\n      <td>10.0</td>\n    </tr>\n    <tr>\n      <th>2</th>\n      <td>30eff2</td>\n      <td>8dff45ta</td>\n      <td>2021-06-21 00:00:00+00:00</td>\n      <td>9.0</td>\n      <td>6.0</td>\n    </tr>\n  </tbody>\n</table>\n</div>",
      "text/plain": "     name client_project                              date  allocation  hours\n0  30eff2       8dff45ta         2021-06-07 00:00:00+00:00        10.0   10.0\n2  30eff2       8dff45ta         2021-06-21 00:00:00+00:00         9.0    6.0"
     },
     "execution_count": 6,
     "metadata": {},
     "output_type": "execute_result"
    }
   ],
   "source": [
    "df[df['allocation'].gt(8)].head()"
   ]
  },
  {
   "cell_type": "code",
   "execution_count": null,
   "metadata": {},
   "outputs": [],
   "source": []
  }
 ],
 "metadata": {
  "kernelspec": {
   "display_name": "Python 3.8.10 64-bit ('qadmin': conda)",
   "name": "python3810jvsc74a57bd0987ae6e1a3d249de3db261a19ad9a8ecf99fbebf93ba6963b80317ff1b12fc54"
  },
  "language_info": {
   "codemirror_mode": {
    "name": "ipython",
    "version": 3
   },
   "file_extension": ".py",
   "mimetype": "text/x-python",
   "name": "python",
   "nbconvert_exporter": "python",
   "pygments_lexer": "ipython3",
   "version": "3.8.10"
  },
  "metadata": {
   "interpreter": {
    "hash": "987ae6e1a3d249de3db261a19ad9a8ecf99fbebf93ba6963b80317ff1b12fc54"
   }
  },
  "orig_nbformat": 2
 },
 "nbformat": 4,
 "nbformat_minor": 2
}